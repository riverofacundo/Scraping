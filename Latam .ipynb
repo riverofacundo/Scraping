{
 "cells": [
  {
   "cell_type": "code",
   "execution_count": 1,
   "metadata": {},
   "outputs": [
    {
     "name": "stdout",
     "output_type": "stream",
     "text": [
      "Requirement already satisfied: selenium in c:\\users\\facun\\anaconda3\\lib\\site-packages (3.141.0)\n",
      "Requirement already satisfied: urllib3 in c:\\users\\facun\\anaconda3\\lib\\site-packages (from selenium) (1.25.11)\n"
     ]
    }
   ],
   "source": [
    "!pip install selenium"
   ]
  },
  {
   "cell_type": "code",
   "execution_count": 8,
   "metadata": {},
   "outputs": [],
   "source": [
    "from selenium import webdriver\n",
    "import time\n",
    "from selenium.webdriver.support.ui import WebDriverWait\n",
    "from selenium.webdriver.support import expected_conditions as EC\n",
    "from selenium.webdriver.common.by import By\n",
    "from selenium.common.exceptions import TimeoutException\n",
    "from webdriver_manager.chrome import ChromeDriverManager\n",
    "\n",
    "#Se necesita tener chromedriver instalado para que selenium funcione"
   ]
  },
  {
   "cell_type": "code",
   "execution_count": 3,
   "metadata": {},
   "outputs": [],
   "source": [
    "def obtener_info(driver):\n",
    "    #A los 5 seg de entrar a la pagina emerge un anuncio, entonces se espera 5seg y se cierra\n",
    "    time.sleep(5)\n",
    "    driver.find_element_by_xpath('//div[@class=\"slidedown-footer\"]/button[@class=\"align-right secondary slidedown-button\"]').click()\n",
    "    \n",
    "    \n",
    "    vuelos = driver.find_elements_by_xpath('//li[@class=\"flight\"]')\n",
    "    print(f'Se encontraron {len(vuelos)} vuelos')\n",
    "    print(\"Iniciando scraping...\")\n",
    "    info = []\n",
    "    for vuelo in vuelos:\n",
    "        #tiempos generales\n",
    "        tiempos = obtener_tiempos(vuelo)\n",
    "        #click boton de escalas\n",
    "        boton_escalas = vuelo.find_element_by_xpath('.//div[@class=\"flight-summary-stops-description\"]/button')\n",
    "        boton_escalas.click()\n",
    "        #informacion tiempo escalas\n",
    "        escalas = obtener_datos_escalas(vuelo)\n",
    "        #cerramos ventana\n",
    "        boton_cerrar = vuelo.find_elements_by_xpath('//div[@class=\"modal-header sc-dnqmqq cGfTsx\"]/button')[0]\n",
    "        boton_cerrar.click()\n",
    "        #clickeamos vuelo para ver tarifas\n",
    "        vuelo.click()\n",
    "        precios = obtener_precios(vuelo)\n",
    "        #cierro info\n",
    "        vuelo.click()\n",
    "        \n",
    "        info.append({'precios':precios, 'tiempos':tiempos, 'escalas':escalas})\n",
    "    \n",
    "    return info"
   ]
  },
  {
   "cell_type": "code",
   "execution_count": 4,
   "metadata": {},
   "outputs": [],
   "source": [
    "def obtener_tiempos(vuelo):\n",
    "    '''\n",
    "    Dado un vuelo retorna un diccionario con los horarios de salida y llegada incluyendo duracion.\n",
    "    '''\n",
    "    hora_salida = vuelo.find_element_by_xpath('.//div[@class=\"departure\"]/time').get_attribute('datetime')\n",
    "    hora_llegada = vuelo.find_element_by_xpath('.//div[@class=\"arrival\"]/time').get_attribute('datetime')\n",
    "    tiempo_vuelo = vuelo.find_element_by_xpath('.//span[@class=\"duration\"]/time').get_attribute('datetime')\n",
    "\n",
    "    data_dict={\n",
    "    'hora_salida':hora_salida,\n",
    "    'hora_llegada':hora_llegada,\n",
    "    'tiempo_vuelo':tiempo_vuelo\n",
    "    }\n",
    "    \n",
    "    return data_dict"
   ]
  },
  {
   "cell_type": "code",
   "execution_count": 5,
   "metadata": {},
   "outputs": [],
   "source": [
    "def obtener_datos_escalas(vuelo):\n",
    "    '''\n",
    "    Dado un vuelo retorna una lista de diccionarios con la informacion\n",
    "    de las escalas.\n",
    "    '''\n",
    "    segmentos = vuelo.find_elements_by_xpath('//div[@class=\"sc-hZSUBg gfeULV\"]/div[@class=\"sc-cLQEGU hyoued\" or @class=\"sc-cLQEGU dnKRNG\"]')\n",
    "    info_escalas = []\n",
    "    for i, segmento in enumerate(segmentos):\n",
    "        try:\n",
    "            origen = segmento.find_element_by_xpath('.//div[@class=\"sc-gwVKww iahkEA\"]/div/abbr').get_attribute(\"title\")\n",
    "            hora_salida = segmento.find_element_by_xpath('.//div[@class=\"sc-gwVKww iahkEA\"]/div/time').get_attribute(\"datetime\")\n",
    "            destino = segmento.find_elements_by_xpath('.//div[@class=\"sc-bwCtUz iybVbT\"][1]')[1].find_elements_by_xpath('.//abbr')[0].get_attribute(\"title\")\n",
    "            hora_llegada = segmento.find_elements_by_xpath('.//div[@class=\"sc-bwCtUz iybVbT\"][1]')[1].find_elements_by_xpath('.//time')[0].get_attribute(\"datetime\")\n",
    "            duracion = segmento.find_element_by_xpath('.//span[@class=\"sc-esjQYD dMquDU\"]/time').get_attribute(\"datetime\")\n",
    "            nro = segmento.find_element_by_xpath('.//div[@class=\"airline-flight-details\"]/b').text\n",
    "            modelo = segmento.find_element_by_xpath('.//div[@class=\"airline-flight-details\"]/span[@class=\"sc-gzOgki uTyOl\"]').text\n",
    "            \n",
    "            data_dict={\n",
    "                'origen':origen,\n",
    "                'hora_salida':hora_salida,\n",
    "                'destino':destino,\n",
    "                'hora_llegada':hora_llegada,\n",
    "                'duracion':duracion,\n",
    "                'nro':nro,\n",
    "                'modelo':modelo }\n",
    "            \n",
    "            info_escalas.append(data_dict.copy())\n",
    "            \n",
    "        except Exception:\n",
    "            pass\n",
    "            \n",
    "    \n",
    "    return info_escalas"
   ]
  },
  {
   "cell_type": "code",
   "execution_count": 6,
   "metadata": {},
   "outputs": [],
   "source": [
    "def obtener_precios(vuelo):\n",
    "    precios = vuelo.find_elements_by_xpath('.//div[@class=\"fares-table-container\"]//tfoot//td[contains(@class, \"fare-\")]')\n",
    "    '''\n",
    "    Dado un vuelo retorna una lista de diccionarios con las tarifas\n",
    "    '''\n",
    "    tarifas = []\n",
    "    for precio in precios:\n",
    "        nombre = precio.find_element_by_xpath('.//label').get_attribute(\"for\")\n",
    "        moneda = precio.find_element_by_xpath('.//span[@class=\"currency-symbol\"]').text\n",
    "        valor = precio.find_element_by_xpath('.//span[@class=\"value\"]').text\n",
    "        dict_tarifa = {nombre:{'moneda':moneda,'valor':valor}}\n",
    "        tarifas.append(dict_tarifa)\n",
    "    return tarifas"
   ]
  },
  {
   "cell_type": "code",
   "execution_count": 9,
   "metadata": {},
   "outputs": [
    {
     "name": "stderr",
     "output_type": "stream",
     "text": [
      "\n",
      "\n",
      "====== WebDriver manager ======\n",
      "Current google-chrome version is 90.0.4430\n",
      "Get LATEST driver version for 90.0.4430\n",
      "Get LATEST driver version for 90.0.4430\n",
      "Trying to download new driver from https://chromedriver.storage.googleapis.com/90.0.4430.24/chromedriver_win32.zip\n",
      "Driver has been saved in cache [C:\\Users\\Facun\\.wdm\\drivers\\chromedriver\\win32\\90.0.4430.24]\n"
     ]
    },
    {
     "name": "stdout",
     "output_type": "stream",
     "text": [
      "La pagina tardo mucho en cargar\n"
     ]
    },
    {
     "ename": "NameError",
     "evalue": "name 'info_vuelos' is not defined",
     "output_type": "error",
     "traceback": [
      "\u001b[1;31m---------------------------------------------------------------------------\u001b[0m",
      "\u001b[1;31mNameError\u001b[0m                                 Traceback (most recent call last)",
      "\u001b[1;32m<ipython-input-9-1892d22021b2>\u001b[0m in \u001b[0;36m<module>\u001b[1;34m\u001b[0m\n\u001b[0;32m     13\u001b[0m \u001b[1;33m\u001b[0m\u001b[0m\n\u001b[0;32m     14\u001b[0m \u001b[0mdriver\u001b[0m\u001b[1;33m.\u001b[0m\u001b[0mclose\u001b[0m\u001b[1;33m(\u001b[0m\u001b[1;33m)\u001b[0m\u001b[1;33m\u001b[0m\u001b[1;33m\u001b[0m\u001b[0m\n\u001b[1;32m---> 15\u001b[1;33m \u001b[0minfo_vuelos\u001b[0m\u001b[1;33m\u001b[0m\u001b[1;33m\u001b[0m\u001b[0m\n\u001b[0m",
      "\u001b[1;31mNameError\u001b[0m: name 'info_vuelos' is not defined"
     ]
    }
   ],
   "source": [
    "driver = webdriver.Chrome(ChromeDriverManager().install())\n",
    "url = 'https://www.latam.com/es_ar/apps/personas/booking?fecha1_dia=01&fecha1_anomes=2021-05&fecha2_dia=22&fecha2_anomes=2021-05&from_city2=MAD&to_city2=BUE&auAvailability=1&ida_vuelta=ida_vuelta&vuelos_origen=Buenos%20Aires&from_city1=BUE&vuelos_destino=Madrid&to_city1=MAD&flex=1&vuelos_fecha_salida_ddmmaaaa=30/04/2021&vuelos_fecha_regreso_ddmmaaaa=22/05/2021&cabina=Y&nadults=1&nchildren=0&ninfants=0&cod_promo=&stopover_outbound_days=0&stopover_inbound_days=0&application=#/url ='\n",
    "driver.get(url)\n",
    "\n",
    "delaymax = 10\n",
    "try:\n",
    "    #demora dinamica de max 10 segundo, pero si se detecta un vuelo deja de esperar.\n",
    "    vuelo = WebDriverWait(driver, delaymax).until(EC.presence_of_element_located((By.XPATH, '//li[@class=\"flight\"]')))\n",
    "    print('La pagina termino de cargar')\n",
    "    info_vuelos = obtener_info(driver)\n",
    "except TimeoutException:\n",
    "    print('La pagina tardo mucho en cargar')\n",
    "\n",
    "driver.close()\n",
    "info_vuelos"
   ]
  }
 ],
 "metadata": {
  "kernelspec": {
   "display_name": "Python 3",
   "language": "python",
   "name": "python3"
  },
  "language_info": {
   "codemirror_mode": {
    "name": "ipython",
    "version": 3
   },
   "file_extension": ".py",
   "mimetype": "text/x-python",
   "name": "python",
   "nbconvert_exporter": "python",
   "pygments_lexer": "ipython3",
   "version": "3.8.5"
  }
 },
 "nbformat": 4,
 "nbformat_minor": 4
}
